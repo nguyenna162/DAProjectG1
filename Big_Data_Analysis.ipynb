{
  "nbformat": 4,
  "nbformat_minor": 0,
  "metadata": {
    "colab": {
      "provenance": []
    },
    "kernelspec": {
      "name": "python3",
      "display_name": "Python 3"
    },
    "language_info": {
      "name": "python"
    }
  },
  "cells": [
    {
      "cell_type": "code",
      "execution_count": null,
      "metadata": {
        "colab": {
          "base_uri": "https://localhost:8080/"
        },
        "id": "8YpeRg1bcKzM",
        "outputId": "55507321-7011-4b4c-ad9c-9ad7fcfe133e"
      },
      "outputs": [
        {
          "output_type": "stream",
          "name": "stdout",
          "text": [
            "Requirement already satisfied: pyspark in /usr/local/lib/python3.11/dist-packages (3.5.1)\n",
            "Requirement already satisfied: py4j in /usr/local/lib/python3.11/dist-packages (0.10.9.7)\n"
          ]
        }
      ],
      "source": [
        "!pip install pyspark py4j"
      ]
    },
    {
      "cell_type": "code",
      "source": [
        "from pyspark.sql import SparkSession\n",
        "spark =  SparkSession.builder.appName(\"Analysis\").getOrCreate()"
      ],
      "metadata": {
        "id": "ZY4gzg3Mc2nb"
      },
      "execution_count": null,
      "outputs": []
    },
    {
      "cell_type": "code",
      "source": [
        "df = spark.read.csv(\"/content/sample_data/online_shoppers_intention.csv\", header=True, inferSchema=True)\n",
        "df.printSchema()\n",
        "df.show(5)"
      ],
      "metadata": {
        "colab": {
          "base_uri": "https://localhost:8080/"
        },
        "id": "OfYIIRVXdWyw",
        "outputId": "8f905a68-45cd-4b01-9907-1758cf655d0c"
      },
      "execution_count": null,
      "outputs": [
        {
          "output_type": "stream",
          "name": "stdout",
          "text": [
            "root\n",
            " |-- Administrative: integer (nullable = true)\n",
            " |-- Administrative_Duration: double (nullable = true)\n",
            " |-- Informational: integer (nullable = true)\n",
            " |-- Informational_Duration: double (nullable = true)\n",
            " |-- ProductRelated: integer (nullable = true)\n",
            " |-- ProductRelated_Duration: double (nullable = true)\n",
            " |-- BounceRates: double (nullable = true)\n",
            " |-- ExitRates: double (nullable = true)\n",
            " |-- PageValues: double (nullable = true)\n",
            " |-- SpecialDay: double (nullable = true)\n",
            " |-- Month: string (nullable = true)\n",
            " |-- OperatingSystems: integer (nullable = true)\n",
            " |-- Browser: integer (nullable = true)\n",
            " |-- Region: integer (nullable = true)\n",
            " |-- TrafficType: integer (nullable = true)\n",
            " |-- VisitorType: string (nullable = true)\n",
            " |-- Weekend: boolean (nullable = true)\n",
            " |-- Revenue: boolean (nullable = true)\n",
            "\n",
            "+--------------+-----------------------+-------------+----------------------+--------------+-----------------------+-----------+---------+----------+----------+-----+----------------+-------+------+-----------+-----------------+-------+-------+\n",
            "|Administrative|Administrative_Duration|Informational|Informational_Duration|ProductRelated|ProductRelated_Duration|BounceRates|ExitRates|PageValues|SpecialDay|Month|OperatingSystems|Browser|Region|TrafficType|      VisitorType|Weekend|Revenue|\n",
            "+--------------+-----------------------+-------------+----------------------+--------------+-----------------------+-----------+---------+----------+----------+-----+----------------+-------+------+-----------+-----------------+-------+-------+\n",
            "|             0|                    0.0|            0|                   0.0|             1|                    0.0|        0.2|      0.2|       0.0|       0.0|  Feb|               1|      1|     1|          1|Returning_Visitor|  false|  false|\n",
            "|             0|                    0.0|            0|                   0.0|             2|                   64.0|        0.0|      0.1|       0.0|       0.0|  Feb|               2|      2|     1|          2|Returning_Visitor|  false|  false|\n",
            "|             0|                    0.0|            0|                   0.0|             1|                    0.0|        0.2|      0.2|       0.0|       0.0|  Feb|               4|      1|     9|          3|Returning_Visitor|  false|  false|\n",
            "|             0|                    0.0|            0|                   0.0|             2|            2.666666667|       0.05|     0.14|       0.0|       0.0|  Feb|               3|      2|     2|          4|Returning_Visitor|  false|  false|\n",
            "|             0|                    0.0|            0|                   0.0|            10|                  627.5|       0.02|     0.05|       0.0|       0.0|  Feb|               3|      3|     1|          4|Returning_Visitor|   true|  false|\n",
            "+--------------+-----------------------+-------------+----------------------+--------------+-----------------------+-----------+---------+----------+----------+-----+----------------+-------+------+-----------+-----------------+-------+-------+\n",
            "only showing top 5 rows\n",
            "\n"
          ]
        }
      ]
    },
    {
      "cell_type": "code",
      "source": [
        "from pyspark.ml.feature import StringIndexer, OneHotEncoder\n",
        "from pyspark.ml import Pipeline\n",
        "from pyspark.sql.functions import col\n",
        "df = df.withColumn(\"Weekend_numberic\", col(\"Weekend\").cast(\"double\"))\n",
        "\n",
        "categorical_cols = [\"Month\", \"OperatingSystems\", \"Browser\", \"Region\",\n",
        "                    \"TrafficType\", \"VisitorType\"]\n",
        "indexers = [StringIndexer(inputCol = col, outputCol=f'{col}_indexed') for col in categorical_cols]\n",
        "encoders = [OneHotEncoder(inputCols=[f'{col}_indexed'],outputCols=[f'{col}_encoded']) for col in categorical_cols]\n",
        "pipeline = Pipeline(stages= indexers + encoders)\n",
        "df =  pipeline.fit(df).transform(df)\n",
        "df.show(5)"
      ],
      "metadata": {
        "colab": {
          "base_uri": "https://localhost:8080/"
        },
        "id": "Jyq8EIcyjxdw",
        "outputId": "81327036-4d82-41b1-cb6e-ff4c50a691ef"
      },
      "execution_count": null,
      "outputs": [
        {
          "output_type": "stream",
          "name": "stdout",
          "text": [
            "+--------------+-----------------------+-------------+----------------------+--------------+-----------------------+-----------+---------+----------+----------+-----+----------------+-------+------+-----------+-----------------+-------+-------+----------------+-------------+------------------------+---------------+--------------+-------------------+-------------------+-------------+------------------------+---------------+--------------+-------------------+-------------------+\n",
            "|Administrative|Administrative_Duration|Informational|Informational_Duration|ProductRelated|ProductRelated_Duration|BounceRates|ExitRates|PageValues|SpecialDay|Month|OperatingSystems|Browser|Region|TrafficType|      VisitorType|Weekend|Revenue|Weekend_numberic|Month_indexed|OperatingSystems_indexed|Browser_indexed|Region_indexed|TrafficType_indexed|VisitorType_indexed|Month_encoded|OperatingSystems_encoded|Browser_encoded|Region_encoded|TrafficType_encoded|VisitorType_encoded|\n",
            "+--------------+-----------------------+-------------+----------------------+--------------+-----------------------+-----------+---------+----------+----------+-----+----------------+-------+------+-----------+-----------------+-------+-------+----------------+-------------+------------------------+---------------+--------------+-------------------+-------------------+-------------+------------------------+---------------+--------------+-------------------+-------------------+\n",
            "|             0|                    0.0|            0|                   0.0|             1|                    0.0|        0.2|      0.2|       0.0|       0.0|  Feb|               1|      1|     1|          1|Returning_Visitor|  false|  false|             0.0|          9.0|                     1.0|            1.0|           0.0|                1.0|                0.0|    (9,[],[])|           (7,[1],[1.0])| (12,[1],[1.0])| (8,[0],[1.0])|     (19,[1],[1.0])|      (2,[0],[1.0])|\n",
            "|             0|                    0.0|            0|                   0.0|             2|                   64.0|        0.0|      0.1|       0.0|       0.0|  Feb|               2|      2|     1|          2|Returning_Visitor|  false|  false|             0.0|          9.0|                     0.0|            0.0|           0.0|                0.0|                0.0|    (9,[],[])|           (7,[0],[1.0])| (12,[0],[1.0])| (8,[0],[1.0])|     (19,[0],[1.0])|      (2,[0],[1.0])|\n",
            "|             0|                    0.0|            0|                   0.0|             1|                    0.0|        0.2|      0.2|       0.0|       0.0|  Feb|               4|      1|     9|          3|Returning_Visitor|  false|  false|             0.0|          9.0|                     3.0|            1.0|           6.0|                2.0|                0.0|    (9,[],[])|           (7,[3],[1.0])| (12,[1],[1.0])| (8,[6],[1.0])|     (19,[2],[1.0])|      (2,[0],[1.0])|\n",
            "|             0|                    0.0|            0|                   0.0|             2|            2.666666667|       0.05|     0.14|       0.0|       0.0|  Feb|               3|      2|     2|          4|Returning_Visitor|  false|  false|             0.0|          9.0|                     2.0|            0.0|           3.0|                3.0|                0.0|    (9,[],[])|           (7,[2],[1.0])| (12,[0],[1.0])| (8,[3],[1.0])|     (19,[3],[1.0])|      (2,[0],[1.0])|\n",
            "|             0|                    0.0|            0|                   0.0|            10|                  627.5|       0.02|     0.05|       0.0|       0.0|  Feb|               3|      3|     1|          4|Returning_Visitor|   true|  false|             1.0|          9.0|                     2.0|            7.0|           0.0|                3.0|                0.0|    (9,[],[])|           (7,[2],[1.0])| (12,[7],[1.0])| (8,[0],[1.0])|     (19,[3],[1.0])|      (2,[0],[1.0])|\n",
            "+--------------+-----------------------+-------------+----------------------+--------------+-----------------------+-----------+---------+----------+----------+-----+----------------+-------+------+-----------+-----------------+-------+-------+----------------+-------------+------------------------+---------------+--------------+-------------------+-------------------+-------------+------------------------+---------------+--------------+-------------------+-------------------+\n",
            "only showing top 5 rows\n",
            "\n"
          ]
        }
      ]
    },
    {
      "cell_type": "code",
      "source": [
        "from pyspark.ml.feature import StandardScaler, VectorAssembler\n",
        "numerical_cols = [\"Administrative\", \"Administrative_Duration\", \"Informational\",\n",
        "                  \"Informational_Duration\", \"ProductRelated\", \"ProductRelated_Duration\",\n",
        "                  \"BounceRates\", \"ExitRates\", \"PageValues\"]\n",
        "assembler = VectorAssembler(inputCols=[col for col in numerical_cols], outputCol='numerical_features')\n",
        "df = assembler.transform(df)\n",
        "df.show(5)\n",
        "scaler = StandardScaler(inputCol=\"numerical_features\", outputCol='scaled_features')\n",
        "df = scaler.fit(df).transform(df)\n",
        "df.show(5)"
      ],
      "metadata": {
        "colab": {
          "base_uri": "https://localhost:8080/"
        },
        "id": "kprmKoJvvlAC",
        "outputId": "4720985c-4b39-45bc-d107-1e6f665a1e4b"
      },
      "execution_count": null,
      "outputs": [
        {
          "output_type": "stream",
          "name": "stdout",
          "text": [
            "+--------------+-----------------------+-------------+----------------------+--------------+-----------------------+-----------+---------+----------+----------+-----+----------------+-------+------+-----------+-----------------+-------+-------+----------------+-------------+------------------------+---------------+--------------+-------------------+-------------------+-------------+------------------------+---------------+--------------+-------------------+-------------------+--------------------+\n",
            "|Administrative|Administrative_Duration|Informational|Informational_Duration|ProductRelated|ProductRelated_Duration|BounceRates|ExitRates|PageValues|SpecialDay|Month|OperatingSystems|Browser|Region|TrafficType|      VisitorType|Weekend|Revenue|Weekend_numberic|Month_indexed|OperatingSystems_indexed|Browser_indexed|Region_indexed|TrafficType_indexed|VisitorType_indexed|Month_encoded|OperatingSystems_encoded|Browser_encoded|Region_encoded|TrafficType_encoded|VisitorType_encoded|  numerical_features|\n",
            "+--------------+-----------------------+-------------+----------------------+--------------+-----------------------+-----------+---------+----------+----------+-----+----------------+-------+------+-----------+-----------------+-------+-------+----------------+-------------+------------------------+---------------+--------------+-------------------+-------------------+-------------+------------------------+---------------+--------------+-------------------+-------------------+--------------------+\n",
            "|             0|                    0.0|            0|                   0.0|             1|                    0.0|        0.2|      0.2|       0.0|       0.0|  Feb|               1|      1|     1|          1|Returning_Visitor|  false|  false|             0.0|          9.0|                     1.0|            1.0|           0.0|                1.0|                0.0|    (9,[],[])|           (7,[1],[1.0])| (12,[1],[1.0])| (8,[0],[1.0])|     (19,[1],[1.0])|      (2,[0],[1.0])|(9,[4,6,7],[1.0,0...|\n",
            "|             0|                    0.0|            0|                   0.0|             2|                   64.0|        0.0|      0.1|       0.0|       0.0|  Feb|               2|      2|     1|          2|Returning_Visitor|  false|  false|             0.0|          9.0|                     0.0|            0.0|           0.0|                0.0|                0.0|    (9,[],[])|           (7,[0],[1.0])| (12,[0],[1.0])| (8,[0],[1.0])|     (19,[0],[1.0])|      (2,[0],[1.0])|(9,[4,5,7],[2.0,6...|\n",
            "|             0|                    0.0|            0|                   0.0|             1|                    0.0|        0.2|      0.2|       0.0|       0.0|  Feb|               4|      1|     9|          3|Returning_Visitor|  false|  false|             0.0|          9.0|                     3.0|            1.0|           6.0|                2.0|                0.0|    (9,[],[])|           (7,[3],[1.0])| (12,[1],[1.0])| (8,[6],[1.0])|     (19,[2],[1.0])|      (2,[0],[1.0])|(9,[4,6,7],[1.0,0...|\n",
            "|             0|                    0.0|            0|                   0.0|             2|            2.666666667|       0.05|     0.14|       0.0|       0.0|  Feb|               3|      2|     2|          4|Returning_Visitor|  false|  false|             0.0|          9.0|                     2.0|            0.0|           3.0|                3.0|                0.0|    (9,[],[])|           (7,[2],[1.0])| (12,[0],[1.0])| (8,[3],[1.0])|     (19,[3],[1.0])|      (2,[0],[1.0])|(9,[4,5,6,7],[2.0...|\n",
            "|             0|                    0.0|            0|                   0.0|            10|                  627.5|       0.02|     0.05|       0.0|       0.0|  Feb|               3|      3|     1|          4|Returning_Visitor|   true|  false|             1.0|          9.0|                     2.0|            7.0|           0.0|                3.0|                0.0|    (9,[],[])|           (7,[2],[1.0])| (12,[7],[1.0])| (8,[0],[1.0])|     (19,[3],[1.0])|      (2,[0],[1.0])|(9,[4,5,6,7],[10....|\n",
            "+--------------+-----------------------+-------------+----------------------+--------------+-----------------------+-----------+---------+----------+----------+-----+----------------+-------+------+-----------+-----------------+-------+-------+----------------+-------------+------------------------+---------------+--------------+-------------------+-------------------+-------------+------------------------+---------------+--------------+-------------------+-------------------+--------------------+\n",
            "only showing top 5 rows\n",
            "\n",
            "+--------------+-----------------------+-------------+----------------------+--------------+-----------------------+-----------+---------+----------+----------+-----+----------------+-------+------+-----------+-----------------+-------+-------+----------------+-------------+------------------------+---------------+--------------+-------------------+-------------------+-------------+------------------------+---------------+--------------+-------------------+-------------------+--------------------+--------------------+\n",
            "|Administrative|Administrative_Duration|Informational|Informational_Duration|ProductRelated|ProductRelated_Duration|BounceRates|ExitRates|PageValues|SpecialDay|Month|OperatingSystems|Browser|Region|TrafficType|      VisitorType|Weekend|Revenue|Weekend_numberic|Month_indexed|OperatingSystems_indexed|Browser_indexed|Region_indexed|TrafficType_indexed|VisitorType_indexed|Month_encoded|OperatingSystems_encoded|Browser_encoded|Region_encoded|TrafficType_encoded|VisitorType_encoded|  numerical_features|     scaled_features|\n",
            "+--------------+-----------------------+-------------+----------------------+--------------+-----------------------+-----------+---------+----------+----------+-----+----------------+-------+------+-----------+-----------------+-------+-------+----------------+-------------+------------------------+---------------+--------------+-------------------+-------------------+-------------+------------------------+---------------+--------------+-------------------+-------------------+--------------------+--------------------+\n",
            "|             0|                    0.0|            0|                   0.0|             1|                    0.0|        0.2|      0.2|       0.0|       0.0|  Feb|               1|      1|     1|          1|Returning_Visitor|  false|  false|             0.0|          9.0|                     1.0|            1.0|           0.0|                1.0|                0.0|    (9,[],[])|           (7,[1],[1.0])| (12,[1],[1.0])| (8,[0],[1.0])|     (19,[1],[1.0])|      (2,[0],[1.0])|(9,[4,6,7],[1.0,0...|(9,[4,6,7],[0.022...|\n",
            "|             0|                    0.0|            0|                   0.0|             2|                   64.0|        0.0|      0.1|       0.0|       0.0|  Feb|               2|      2|     1|          2|Returning_Visitor|  false|  false|             0.0|          9.0|                     0.0|            0.0|           0.0|                0.0|                0.0|    (9,[],[])|           (7,[0],[1.0])| (12,[0],[1.0])| (8,[0],[1.0])|     (19,[0],[1.0])|      (2,[0],[1.0])|(9,[4,5,7],[2.0,6...|(9,[4,5,7],[0.044...|\n",
            "|             0|                    0.0|            0|                   0.0|             1|                    0.0|        0.2|      0.2|       0.0|       0.0|  Feb|               4|      1|     9|          3|Returning_Visitor|  false|  false|             0.0|          9.0|                     3.0|            1.0|           6.0|                2.0|                0.0|    (9,[],[])|           (7,[3],[1.0])| (12,[1],[1.0])| (8,[6],[1.0])|     (19,[2],[1.0])|      (2,[0],[1.0])|(9,[4,6,7],[1.0,0...|(9,[4,6,7],[0.022...|\n",
            "|             0|                    0.0|            0|                   0.0|             2|            2.666666667|       0.05|     0.14|       0.0|       0.0|  Feb|               3|      2|     2|          4|Returning_Visitor|  false|  false|             0.0|          9.0|                     2.0|            0.0|           3.0|                3.0|                0.0|    (9,[],[])|           (7,[2],[1.0])| (12,[0],[1.0])| (8,[3],[1.0])|     (19,[3],[1.0])|      (2,[0],[1.0])|(9,[4,5,6,7],[2.0...|(9,[4,5,6,7],[0.0...|\n",
            "|             0|                    0.0|            0|                   0.0|            10|                  627.5|       0.02|     0.05|       0.0|       0.0|  Feb|               3|      3|     1|          4|Returning_Visitor|   true|  false|             1.0|          9.0|                     2.0|            7.0|           0.0|                3.0|                0.0|    (9,[],[])|           (7,[2],[1.0])| (12,[7],[1.0])| (8,[0],[1.0])|     (19,[3],[1.0])|      (2,[0],[1.0])|(9,[4,5,6,7],[10....|(9,[4,5,6,7],[0.2...|\n",
            "+--------------+-----------------------+-------------+----------------------+--------------+-----------------------+-----------+---------+----------+----------+-----+----------------+-------+------+-----------+-----------------+-------+-------+----------------+-------------+------------------------+---------------+--------------+-------------------+-------------------+-------------+------------------------+---------------+--------------+-------------------+-------------------+--------------------+--------------------+\n",
            "only showing top 5 rows\n",
            "\n"
          ]
        }
      ]
    },
    {
      "cell_type": "code",
      "source": [
        "feature_cols = [f'{col}_encoded' for col in categorical_cols] +[\"scaled_features\"]\n",
        "assembler = VectorAssembler(inputCols=feature_cols, outputCol='features')\n",
        "df = assembler.transform(df)\n",
        "df.show(5)"
      ],
      "metadata": {
        "colab": {
          "base_uri": "https://localhost:8080/"
        },
        "id": "O92vPAS71O-h",
        "outputId": "5a3cd88a-0f44-4451-c27f-838b44410d27"
      },
      "execution_count": null,
      "outputs": [
        {
          "output_type": "stream",
          "name": "stdout",
          "text": [
            "+--------------+-----------------------+-------------+----------------------+--------------+-----------------------+-----------+---------+----------+----------+-----+----------------+-------+------+-----------+-----------------+-------+-------+----------------+-------------+------------------------+---------------+--------------+-------------------+-------------------+-------------+------------------------+---------------+--------------+-------------------+-------------------+--------------------+--------------------+--------------------+\n",
            "|Administrative|Administrative_Duration|Informational|Informational_Duration|ProductRelated|ProductRelated_Duration|BounceRates|ExitRates|PageValues|SpecialDay|Month|OperatingSystems|Browser|Region|TrafficType|      VisitorType|Weekend|Revenue|Weekend_numberic|Month_indexed|OperatingSystems_indexed|Browser_indexed|Region_indexed|TrafficType_indexed|VisitorType_indexed|Month_encoded|OperatingSystems_encoded|Browser_encoded|Region_encoded|TrafficType_encoded|VisitorType_encoded|  numerical_features|     scaled_features|            features|\n",
            "+--------------+-----------------------+-------------+----------------------+--------------+-----------------------+-----------+---------+----------+----------+-----+----------------+-------+------+-----------+-----------------+-------+-------+----------------+-------------+------------------------+---------------+--------------+-------------------+-------------------+-------------+------------------------+---------------+--------------+-------------------+-------------------+--------------------+--------------------+--------------------+\n",
            "|             0|                    0.0|            0|                   0.0|             1|                    0.0|        0.2|      0.2|       0.0|       0.0|  Feb|               1|      1|     1|          1|Returning_Visitor|  false|  false|             0.0|          9.0|                     1.0|            1.0|           0.0|                1.0|                0.0|    (9,[],[])|           (7,[1],[1.0])| (12,[1],[1.0])| (8,[0],[1.0])|     (19,[1],[1.0])|      (2,[0],[1.0])|(9,[4,6,7],[1.0,0...|(9,[4,6,7],[0.022...|(66,[10,17,28,37,...|\n",
            "|             0|                    0.0|            0|                   0.0|             2|                   64.0|        0.0|      0.1|       0.0|       0.0|  Feb|               2|      2|     1|          2|Returning_Visitor|  false|  false|             0.0|          9.0|                     0.0|            0.0|           0.0|                0.0|                0.0|    (9,[],[])|           (7,[0],[1.0])| (12,[0],[1.0])| (8,[0],[1.0])|     (19,[0],[1.0])|      (2,[0],[1.0])|(9,[4,5,7],[2.0,6...|(9,[4,5,7],[0.044...|(66,[9,16,28,36,5...|\n",
            "|             0|                    0.0|            0|                   0.0|             1|                    0.0|        0.2|      0.2|       0.0|       0.0|  Feb|               4|      1|     9|          3|Returning_Visitor|  false|  false|             0.0|          9.0|                     3.0|            1.0|           6.0|                2.0|                0.0|    (9,[],[])|           (7,[3],[1.0])| (12,[1],[1.0])| (8,[6],[1.0])|     (19,[2],[1.0])|      (2,[0],[1.0])|(9,[4,6,7],[1.0,0...|(9,[4,6,7],[0.022...|(66,[12,17,34,38,...|\n",
            "|             0|                    0.0|            0|                   0.0|             2|            2.666666667|       0.05|     0.14|       0.0|       0.0|  Feb|               3|      2|     2|          4|Returning_Visitor|  false|  false|             0.0|          9.0|                     2.0|            0.0|           3.0|                3.0|                0.0|    (9,[],[])|           (7,[2],[1.0])| (12,[0],[1.0])| (8,[3],[1.0])|     (19,[3],[1.0])|      (2,[0],[1.0])|(9,[4,5,6,7],[2.0...|(9,[4,5,6,7],[0.0...|(66,[11,16,31,39,...|\n",
            "|             0|                    0.0|            0|                   0.0|            10|                  627.5|       0.02|     0.05|       0.0|       0.0|  Feb|               3|      3|     1|          4|Returning_Visitor|   true|  false|             1.0|          9.0|                     2.0|            7.0|           0.0|                3.0|                0.0|    (9,[],[])|           (7,[2],[1.0])| (12,[7],[1.0])| (8,[0],[1.0])|     (19,[3],[1.0])|      (2,[0],[1.0])|(9,[4,5,6,7],[10....|(9,[4,5,6,7],[0.2...|(66,[11,23,28,39,...|\n",
            "+--------------+-----------------------+-------------+----------------------+--------------+-----------------------+-----------+---------+----------+----------+-----+----------------+-------+------+-----------+-----------------+-------+-------+----------------+-------------+------------------------+---------------+--------------+-------------------+-------------------+-------------+------------------------+---------------+--------------+-------------------+-------------------+--------------------+--------------------+--------------------+\n",
            "only showing top 5 rows\n",
            "\n"
          ]
        }
      ]
    },
    {
      "cell_type": "code",
      "source": [
        "from pyspark.sql.functions import when\n",
        "df = df.withColumn(\"label\", when(col(\"Revenue\") == True, 1.0).otherwise(0.0))"
      ],
      "metadata": {
        "id": "ExaTNdLe2NMH"
      },
      "execution_count": null,
      "outputs": []
    },
    {
      "cell_type": "code",
      "source": [
        "df.describe(numerical_cols).show()"
      ],
      "metadata": {
        "colab": {
          "base_uri": "https://localhost:8080/"
        },
        "id": "zTjHJCT22ma2",
        "outputId": "edb5cff6-a055-47db-a0a9-5943d3713f72"
      },
      "execution_count": null,
      "outputs": [
        {
          "output_type": "stream",
          "name": "stdout",
          "text": [
            "+-------+------------------+-----------------------+------------------+----------------------+------------------+-----------------------+--------------------+--------------------+-----------------+\n",
            "|summary|    Administrative|Administrative_Duration|     Informational|Informational_Duration|    ProductRelated|ProductRelated_Duration|         BounceRates|           ExitRates|       PageValues|\n",
            "+-------+------------------+-----------------------+------------------+----------------------+------------------+-----------------------+--------------------+--------------------+-----------------+\n",
            "|  count|             12330|                  12330|             12330|                 12330|             12330|                  12330|               12330|               12330|            12330|\n",
            "|   mean|2.3151662611516626|      80.81861053933578|0.5035685320356853|     34.47239792772309|31.731467964314678|     1194.7462199688305| 0.02219138047072152| 0.04307279776650371|5.889257862693596|\n",
            "| stddev|3.3217841061569113|     176.77910747048603|1.2701564259833897|    140.74929442219778|44.475503304936574|     1913.6692878720012|0.048488321806260705|0.048596540551443634| 18.5684366078065|\n",
            "|    min|                 0|                    0.0|                 0|                   0.0|                 0|                    0.0|                 0.0|                 0.0|              0.0|\n",
            "|    max|                27|                3398.75|                24|              2549.375|               705|            63973.52223|                 0.2|                 0.2|      361.7637419|\n",
            "+-------+------------------+-----------------------+------------------+----------------------+------------------+-----------------------+--------------------+--------------------+-----------------+\n",
            "\n"
          ]
        }
      ]
    },
    {
      "cell_type": "code",
      "source": [
        "df.groupBy(\"Revenue\").count().show()"
      ],
      "metadata": {
        "colab": {
          "base_uri": "https://localhost:8080/"
        },
        "id": "FtpFm-w_26cx",
        "outputId": "f22cde84-ba89-4fa9-8a1d-11eec6792ba8"
      },
      "execution_count": null,
      "outputs": [
        {
          "output_type": "stream",
          "name": "stdout",
          "text": [
            "+-------+-----+\n",
            "|Revenue|count|\n",
            "+-------+-----+\n",
            "|   true| 1908|\n",
            "|  false|10422|\n",
            "+-------+-----+\n",
            "\n"
          ]
        }
      ]
    },
    {
      "cell_type": "code",
      "source": [
        "from pyspark.ml.stat import Correlation\n",
        "corr_matrix = Correlation.corr(df, \"numerical_features\").head()\n",
        "print(\"Correlation matrix:\\n\", corr_matrix[0])"
      ],
      "metadata": {
        "colab": {
          "base_uri": "https://localhost:8080/"
        },
        "id": "U0aojOGk3Vd4",
        "outputId": "285a19b5-3ff2-4876-ff01-53878d7c7830"
      },
      "execution_count": null,
      "outputs": [
        {
          "output_type": "stream",
          "name": "stdout",
          "text": [
            "Correlation matrix:\n",
            " DenseMatrix([[ 1.        ,  0.60158334,  0.37685043,  0.25584814,  0.43111934,\n",
            "               0.37393901, -0.22356263, -0.316483  ,  0.09898959],\n",
            "             [ 0.60158334,  1.        ,  0.30270971,  0.23803079,  0.28908662,\n",
            "               0.35542195, -0.14417041, -0.20579776,  0.06760848],\n",
            "             [ 0.37685043,  0.30270971,  1.        ,  0.61895486,  0.37416429,\n",
            "               0.38750531, -0.11611362, -0.16366606,  0.04863169],\n",
            "             [ 0.25584814,  0.23803079,  0.61895486,  1.        ,  0.28004627,\n",
            "               0.34736358, -0.07406661, -0.10527568,  0.03086087],\n",
            "             [ 0.43111934,  0.28908662,  0.37416429,  0.28004627,  1.        ,\n",
            "               0.86092684, -0.20457763, -0.29252628,  0.05628179],\n",
            "             [ 0.37393901,  0.35542195,  0.38750531,  0.34736358,  0.86092684,\n",
            "               1.        , -0.18454112, -0.2519841 ,  0.05282306],\n",
            "             [-0.22356263, -0.14417041, -0.11611362, -0.07406661, -0.20457763,\n",
            "              -0.18454112,  1.        ,  0.9130044 , -0.11938603],\n",
            "             [-0.316483  , -0.20579776, -0.16366606, -0.10527568, -0.29252628,\n",
            "              -0.2519841 ,  0.9130044 ,  1.        , -0.17449831],\n",
            "             [ 0.09898959,  0.06760848,  0.04863169,  0.03086087,  0.05628179,\n",
            "               0.05282306, -0.11938603, -0.17449831,  1.        ]])\n"
          ]
        }
      ]
    },
    {
      "cell_type": "code",
      "source": [
        "import matplotlib.pyplot as plt\n",
        "import pandas as pd\n",
        "\n",
        "revenue_counts = df.groupBy(\"Revenue\").count().toPandas()\n",
        "plt.bar(revenue_counts[\"Revenue\"], revenue_counts[\"count\"], color=['red', 'green'])\n",
        "plt.xlabel(\"Revenue\")\n",
        "plt.ylabel(\"Count\")\n",
        "plt.title(\"Distribution of Revenue\")\n",
        "plt.show()"
      ],
      "metadata": {
        "colab": {
          "base_uri": "https://localhost:8080/",
          "height": 472
        },
        "id": "6uXTTM-j6IWh",
        "outputId": "4940916c-0b32-4f74-c193-db7c2e252cd3"
      },
      "execution_count": null,
      "outputs": [
        {
          "output_type": "display_data",
          "data": {
            "text/plain": [
              "<Figure size 640x480 with 1 Axes>"
            ],
            "image/png": "[encoded data removed]"
          },
          "metadata": {}
        }
      ]
    },
    {
      "cell_type": "code",
      "source": [
        "from pyspark.ml.classification import LogisticRegression\n",
        "from pyspark.ml.tuning import CrossValidator, ParamGridBuilder\n",
        "from pyspark.ml.evaluation import BinaryClassificationEvaluator\n",
        "\n",
        "lr = LogisticRegression(featuresCol=\"features\", labelCol='label')\n",
        "paramGrid = ParamGridBuilder().addGrid(lr.regParam,[0.01, 0.1, 1.0]) \\\n",
        "                              .addGrid(lr.elasticNetParam, [0.0, 0.5, 1.0]) \\\n",
        "                              .build()\n",
        "evaluator = BinaryClassificationEvaluator(labelCol='label', metricName=\"areaUnderROC\")\n",
        "crossVal = CrossValidator(estimator=lr, estimatorParamMaps=paramGrid,\n",
        "                          evaluator=evaluator,\n",
        "                          numFolds=10,\n",
        "                          seed=42)\n",
        "cv_model = crossVal.fit(df)\n",
        "best_model = cv_model.bestModel\n",
        "avg_metrics = cv_model.avgMetrics\n",
        "print(\"AUC trung bình cho mỗi tham số kết hơp: \", avg_metrics)\n",
        "\n",
        "predictions = best_model.transform(df)\n",
        "auc = evaluator.evaluate(predictions)\n",
        "print(f'ROC trên toàn bộ dữ liệu: {auc}')\n",
        "print(\"\\nAUC trung bình cho từng tổ hợp siêu tham số của LogisticRegression:\")\n",
        "param_combinations = [dict(param_map) for param_map in paramGrid]\n",
        "results = []\n",
        "for i, param_map in enumerate(param_combinations):\n",
        "    param_str = {str(k.name): v for k, v in param_map.items()}\n",
        "    results.append({**param_str, 'AUC': avg_metrics[i]})\n",
        "df_results = pd.DataFrame(results)\n",
        "print(df_results.to_string(index=False))\n",
        "\n",
        "# Tính ROC trên toàn bộ dữ liệu\n",
        "predictions_lr = best_model.transform(df)\n",
        "auc_lr = evaluator.evaluate(predictions_lr)\n",
        "print(f'ROC trên toàn bộ dữ liệu: {auc_lr}')"
      ],
      "metadata": {
        "colab": {
          "base_uri": "https://localhost:8080/"
        },
        "id": "GxrlvaQV7_Kl",
        "outputId": "543d2487-2f73-46e8-c756-08326c3a9836"
      },
      "execution_count": null,
      "outputs": [
        {
          "output_type": "stream",
          "name": "stdout",
          "text": [
            "AUC trung bình cho mỗi tham số kết hơp:  [np.float64(0.8920332893638514), np.float64(0.8982399879902166), np.float64(0.8987539851726115), np.float64(0.881043275302925), np.float64(0.895927810114919), np.float64(0.8629573195327161), np.float64(0.8559804262789786), np.float64(0.5), np.float64(0.5)]\n",
            "ROC trên toàn bộ dữ liệu: 0.8998238687955284\n",
            "\n",
            "AUC trung bình cho từng tổ hợp siêu tham số của LogisticRegression:\n",
            " regParam  elasticNetParam      AUC\n",
            "     0.01              0.0 0.892033\n",
            "     0.01              0.5 0.898240\n",
            "     0.01              1.0 0.898754\n",
            "     0.10              0.0 0.881043\n",
            "     0.10              0.5 0.895928\n",
            "     0.10              1.0 0.862957\n",
            "     1.00              0.0 0.855980\n",
            "     1.00              0.5 0.500000\n",
            "     1.00              1.0 0.500000\n",
            "ROC trên toàn bộ dữ liệu: 0.8998238687955284\n"
          ]
        }
      ]
    },
    {
      "cell_type": "code",
      "source": [
        "from pyspark.ml.classification import RandomForestClassifier\n",
        "\n",
        "rf = RandomForestClassifier(featuresCol=\"features\", labelCol=\"label\")\n",
        "paramGrid = ParamGridBuilder() \\\n",
        "    .addGrid(rf.numTrees, [50, 100]) \\\n",
        "    .addGrid(rf.maxDepth, [5, 10]) \\\n",
        "    .build()\n",
        "crossval = CrossValidator(estimator=rf,\n",
        "                          estimatorParamMaps=paramGrid,\n",
        "                          evaluator=evaluator,\n",
        "                          numFolds=10,\n",
        "                          seed=42)\n",
        "cv_model = crossval.fit(df)\n",
        "best_model = cv_model.bestModel\n",
        "avg_metrics = cv_model.avgMetrics\n",
        "print(\"AUC trung bình cho mỗi tham số kết hơp: \", avg_metrics)\n",
        "predictions = best_model.transform(df)\n",
        "auc = evaluator.evaluate(predictions)\n",
        "print(f\"ROC trên toàn bộ dữ liệu: {auc}\")\n",
        "print(\"\\nAUC trung bình cho từng tổ hợp siêu tham số của RandomForestClassifier:\")\n",
        "param_combinations = [dict(param_map) for param_map in paramGrid]\n",
        "results = []\n",
        "for i, param_map in enumerate(param_combinations):\n",
        "    param_str = {str(k.name): v for k, v in param_map.items()}\n",
        "    results.append({**param_str, 'AUC': avg_metrics[i]})\n",
        "df_results = pd.DataFrame(results)\n",
        "print(df_results.to_string(index=False))\n",
        "\n",
        "# Tính ROC trên toàn bộ dữ liệu\n",
        "predictions_rf = best_model.transform(df)\n",
        "auc_rf = evaluator.evaluate(predictions_rf)\n",
        "print(f\"ROC trên toàn bộ dữ liệu: {auc_rf}\")"
      ],
      "metadata": {
        "colab": {
          "base_uri": "https://localhost:8080/"
        },
        "id": "0TCcOkwSEUTV",
        "outputId": "b5cf801f-37dd-4aab-849b-dd63f4847a9c"
      },
      "execution_count": null,
      "outputs": [
        {
          "output_type": "stream",
          "name": "stdout",
          "text": [
            "AUC trung bình cho mỗi tham số kết hơp:  [np.float64(0.9153152480077467), np.float64(0.9253884654113896), np.float64(0.9135122278436978), np.float64(0.9270566626656345)]\n",
            "ROC trên toàn bộ dữ liệu: 0.96791735713076\n",
            "\n",
            "AUC trung bình cho từng tổ hợp siêu tham số của RandomForestClassifier:\n",
            " numTrees  maxDepth      AUC\n",
            "       50         5 0.915315\n",
            "       50        10 0.925388\n",
            "      100         5 0.913512\n",
            "      100        10 0.927057\n",
            "ROC trên toàn bộ dữ liệu: 0.96791735713076\n"
          ]
        }
      ]
    },
    {
      "cell_type": "code",
      "source": [
        "from pyspark.ml.classification import GBTClassifier\n",
        "from pyspark.ml.tuning import CrossValidator, ParamGridBuilder\n",
        "from pyspark.ml.evaluation import BinaryClassificationEvaluator\n",
        "\n",
        "gbt = GBTClassifier(featuresCol=\"features\", labelCol=\"label\", seed=42)\n",
        "paramGrid = ParamGridBuilder() \\\n",
        "    .addGrid(gbt.maxIter, [10, 20]) \\\n",
        "    .addGrid(gbt.maxDepth, [5, 10]) \\\n",
        "    .addGrid(gbt.stepSize, [0.1, 0.01]) \\\n",
        "    .build()\n",
        "evaluator = BinaryClassificationEvaluator(labelCol=\"label\", metricName=\"areaUnderROC\")\n",
        "crossval = CrossValidator(estimator=gbt,\n",
        "                          estimatorParamMaps=paramGrid,\n",
        "                          evaluator=evaluator,\n",
        "                          numFolds=10,\n",
        "                          seed=42)\n",
        "cv_model = crossval.fit(df)\n",
        "best_model = cv_model.bestModel\n",
        "avg_metrics = cv_model.avgMetrics\n",
        "print(\"AUC trung bình cho mỗi tham số kết hơp: \", avg_metrics)\n",
        "predictions = best_model.transform(df)\n",
        "auc = evaluator.evaluate(predictions)\n",
        "print(f\"ROC trên toàn bộ dữ liệu: {auc}\")\n",
        "# Hiển thị AUC cho từng tổ hợp siêu tham số\n",
        "print(\"\\nAUC trung bình cho từng tổ hợp siêu tham số của GBTClassifier:\")\n",
        "param_combinations = [dict(param_map) for param_map in paramGrid]\n",
        "results = []\n",
        "for i, param_map in enumerate(param_combinations):\n",
        "    param_str = {str(k.name): v for k, v in param_map.items()}\n",
        "    results.append({**param_str, 'AUC': avg_metrics[i]})\n",
        "df_results = pd.DataFrame(results)\n",
        "print(df_results.to_string(index=False))\n",
        "\n",
        "# Tính ROC trên toàn bộ dữ liệu\n",
        "predictions_gbt = best_model.transform(df)\n",
        "auc_gbt = evaluator.evaluate(predictions_gbt)\n",
        "print(f\"ROC trên toàn bộ dữ liệu: {auc_gbt}\")"
      ],
      "metadata": {
        "colab": {
          "base_uri": "https://localhost:8080/"
        },
        "id": "suBijDbUH_c0",
        "outputId": "25239120-6d98-4373-eb93-5bb777000c89"
      },
      "execution_count": null,
      "outputs": [
        {
          "output_type": "stream",
          "name": "stdout",
          "text": [
            "AUC trung bình cho mỗi tham số kết hơp:  [np.float64(0.9307909201487508), np.float64(0.926378762279563), np.float64(0.8985526893535873), np.float64(0.8801303855440683), np.float64(0.9320732177973399), np.float64(0.9272389780800101), np.float64(0.9016742070605342), np.float64(0.8890937305886798)]\n",
            "ROC trên toàn bộ dữ liệu: 0.9496601136444555\n",
            "\n",
            "AUC trung bình cho từng tổ hợp siêu tham số của GBTClassifier:\n",
            " maxIter  maxDepth  stepSize      AUC\n",
            "      10         5      0.10 0.930791\n",
            "      10         5      0.01 0.926379\n",
            "      10        10      0.10 0.898553\n",
            "      10        10      0.01 0.880130\n",
            "      20         5      0.10 0.932073\n",
            "      20         5      0.01 0.927239\n",
            "      20        10      0.10 0.901674\n",
            "      20        10      0.01 0.889094\n",
            "ROC trên toàn bộ dữ liệu: 0.9496601136444555\n"
          ]
        }
      ]
    },
    {
      "cell_type": "code",
      "source": [
        "numerical_cols_with_label = numerical_cols + [\"label\"]\n",
        "assembler = VectorAssembler(inputCols=numerical_cols_with_label, outputCol=\"features_with_label\")\n",
        "corr_matrix = Correlation.corr(assembler.transform(df), \"features_with_label\").head()[0]\n",
        "print(\"Correlation matrix:\\n\", corr_matrix)"
      ],
      "metadata": {
        "colab": {
          "base_uri": "https://localhost:8080/"
        },
        "id": "8GMr1Lt6C4AS",
        "outputId": "e27b9259-5ee2-4f4f-b437-46c4aa216380"
      },
      "execution_count": null,
      "outputs": [
        {
          "output_type": "stream",
          "name": "stdout",
          "text": [
            "Correlation matrix:\n",
            " DenseMatrix([[ 1.        ,  0.60158334,  0.37685043,  0.25584814,  0.43111934,\n",
            "               0.37393901, -0.22356263, -0.316483  ,  0.09898959,  0.13891709],\n",
            "             [ 0.60158334,  1.        ,  0.30270971,  0.23803079,  0.28908662,\n",
            "               0.35542195, -0.14417041, -0.20579776,  0.06760848,  0.09358672],\n",
            "             [ 0.37685043,  0.30270971,  1.        ,  0.61895486,  0.37416429,\n",
            "               0.38750531, -0.11611362, -0.16366606,  0.04863169,  0.09520034],\n",
            "             [ 0.25584814,  0.23803079,  0.61895486,  1.        ,  0.28004627,\n",
            "               0.34736358, -0.07406661, -0.10527568,  0.03086087,  0.0703445 ],\n",
            "             [ 0.43111934,  0.28908662,  0.37416429,  0.28004627,  1.        ,\n",
            "               0.86092684, -0.20457763, -0.29252628,  0.05628179,  0.15853798],\n",
            "             [ 0.37393901,  0.35542195,  0.38750531,  0.34736358,  0.86092684,\n",
            "               1.        , -0.18454112, -0.2519841 ,  0.05282306,  0.15237261],\n",
            "             [-0.22356263, -0.14417041, -0.11611362, -0.07406661, -0.20457763,\n",
            "              -0.18454112,  1.        ,  0.9130044 , -0.11938603, -0.15067291],\n",
            "             [-0.316483  , -0.20579776, -0.16366606, -0.10527568, -0.29252628,\n",
            "              -0.2519841 ,  0.9130044 ,  1.        , -0.17449831, -0.20707108],\n",
            "             [ 0.09898959,  0.06760848,  0.04863169,  0.03086087,  0.05628179,\n",
            "               0.05282306, -0.11938603, -0.17449831,  1.        ,  0.4925693 ],\n",
            "             [ 0.13891709,  0.09358672,  0.09520034,  0.0703445 ,  0.15853798,\n",
            "               0.15237261, -0.15067291, -0.20707108,  0.4925693 ,  1.        ]])\n"
          ]
        }
      ]
    },
    {
      "cell_type": "code",
      "source": [
        "spark.stop()"
      ],
      "metadata": {
        "id": "tenrcaOfko7F"
      },
      "execution_count": null,
      "outputs": []
    }
  ]
}